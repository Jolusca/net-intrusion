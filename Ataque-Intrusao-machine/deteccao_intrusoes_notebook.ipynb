{
 "cells": [
  {
   "cell_type": "markdown",
   "id": "7388bfc1",
   "metadata": {},
   "source": [
    "# Detecção de Intrusões em Redes Usando Random Forest\n",
    "\n",
    "Aluno: João Lucas Oliveira Mota - 509597\n"
   ]
  },
  {
   "cell_type": "markdown",
   "id": "f579e301",
   "metadata": {},
   "source": [
    "## 1. Introdução\n",
    "\n",
    "A segurança em redes de computadores é essencial para proteger sistemas contra ameaças como DoS, DDoS e varreduras de portas, que podem comprometer a integridade e disponibilidade dos serviços. Técnicas de aprendizado de máquina, como Random Forest, são eficazes na detecção automática de intrusões por meio da análise de padrões em dados de tráfego de rede. Este trabalho aplica o Random Forest para classificar eventos de rede, visando melhorar a identificação rápida e precisa de ataques cibernéticos.    "
   ]
  },
  {
   "cell_type": "markdown",
   "id": "f0731880",
   "metadata": {},
   "source": [
    "\n",
    "## 2. Fundamentação Teórica\n",
    "\n",
    "Neste estudo, será utilizada a técnica de **Random Forest**, uma abordagem supervisionada que constrói um conjunto de árvores de decisão para realizar classificações com alta precisão. Essa técnica é conhecida por lidar bem com dados tabulares e problemas de classificação multiclasses.\n",
    "    "
   ]
  },
  {
   "cell_type": "markdown",
   "id": "c6c9a73d",
   "metadata": {},
   "source": [
    "\n",
    "## 3. Metodologia\n",
    "\n",
    "O dataset escolhido foi retirado da plataforma Kaggle:  \n",
    "> [Network Intrusion Detection Dataset](https://www.kaggle.com/datasets/sampadab17/network-intrusion-detection)\n",
    "\n",
    "O conjunto contém registros de tráfego de rede rotulados como normal ou pertencentes a diferentes tipos de ataques.\n",
    "\n",
    "As etapas metodológicas incluem:\n",
    "\n",
    "- Carregamento e visualização dos dados\n",
    "- Limpeza e pré-processamento\n",
    "- Treinamento do modelo\n",
    "- Avaliação usando métricas padrão\n",
    "    "
   ]
  },
  {
   "cell_type": "markdown",
   "id": "4e6feffa",
   "metadata": {},
   "source": [
    "### Pré-Processamento"
   ]
  },
  {
   "cell_type": "code",
   "execution_count": 96,
   "id": "42a54f20",
   "metadata": {},
   "outputs": [],
   "source": [
    "\n",
    "# 4.1 Importação de bibliotecas\n",
    "import pandas as pd\n",
    "import numpy as np\n",
    "import matplotlib.pyplot as plt\n",
    "import seaborn as sns\n",
    "\n",
    "from sklearn.model_selection import train_test_split\n",
    "from sklearn.preprocessing import LabelEncoder, StandardScaler\n",
    "from sklearn.ensemble import RandomForestClassifier\n",
    "from sklearn.metrics import classification_report, confusion_matrix\n",
    "    "
   ]
  },
  {
   "cell_type": "code",
   "execution_count": 97,
   "id": "b9c33730",
   "metadata": {},
   "outputs": [
    {
     "data": {
      "text/html": [
       "<div>\n",
       "<style scoped>\n",
       "    .dataframe tbody tr th:only-of-type {\n",
       "        vertical-align: middle;\n",
       "    }\n",
       "\n",
       "    .dataframe tbody tr th {\n",
       "        vertical-align: top;\n",
       "    }\n",
       "\n",
       "    .dataframe thead th {\n",
       "        text-align: right;\n",
       "    }\n",
       "</style>\n",
       "<table border=\"1\" class=\"dataframe\">\n",
       "  <thead>\n",
       "    <tr style=\"text-align: right;\">\n",
       "      <th></th>\n",
       "      <th>duration</th>\n",
       "      <th>protocol_type</th>\n",
       "      <th>service</th>\n",
       "      <th>flag</th>\n",
       "      <th>src_bytes</th>\n",
       "      <th>dst_bytes</th>\n",
       "      <th>land</th>\n",
       "      <th>wrong_fragment</th>\n",
       "      <th>urgent</th>\n",
       "      <th>hot</th>\n",
       "      <th>...</th>\n",
       "      <th>dst_host_srv_count</th>\n",
       "      <th>dst_host_same_srv_rate</th>\n",
       "      <th>dst_host_diff_srv_rate</th>\n",
       "      <th>dst_host_same_src_port_rate</th>\n",
       "      <th>dst_host_srv_diff_host_rate</th>\n",
       "      <th>dst_host_serror_rate</th>\n",
       "      <th>dst_host_srv_serror_rate</th>\n",
       "      <th>dst_host_rerror_rate</th>\n",
       "      <th>dst_host_srv_rerror_rate</th>\n",
       "      <th>class</th>\n",
       "    </tr>\n",
       "  </thead>\n",
       "  <tbody>\n",
       "    <tr>\n",
       "      <th>0</th>\n",
       "      <td>0</td>\n",
       "      <td>tcp</td>\n",
       "      <td>ftp_data</td>\n",
       "      <td>SF</td>\n",
       "      <td>491</td>\n",
       "      <td>0</td>\n",
       "      <td>0</td>\n",
       "      <td>0</td>\n",
       "      <td>0</td>\n",
       "      <td>0</td>\n",
       "      <td>...</td>\n",
       "      <td>25</td>\n",
       "      <td>0.17</td>\n",
       "      <td>0.03</td>\n",
       "      <td>0.17</td>\n",
       "      <td>0.00</td>\n",
       "      <td>0.00</td>\n",
       "      <td>0.00</td>\n",
       "      <td>0.05</td>\n",
       "      <td>0.00</td>\n",
       "      <td>normal</td>\n",
       "    </tr>\n",
       "    <tr>\n",
       "      <th>1</th>\n",
       "      <td>0</td>\n",
       "      <td>udp</td>\n",
       "      <td>other</td>\n",
       "      <td>SF</td>\n",
       "      <td>146</td>\n",
       "      <td>0</td>\n",
       "      <td>0</td>\n",
       "      <td>0</td>\n",
       "      <td>0</td>\n",
       "      <td>0</td>\n",
       "      <td>...</td>\n",
       "      <td>1</td>\n",
       "      <td>0.00</td>\n",
       "      <td>0.60</td>\n",
       "      <td>0.88</td>\n",
       "      <td>0.00</td>\n",
       "      <td>0.00</td>\n",
       "      <td>0.00</td>\n",
       "      <td>0.00</td>\n",
       "      <td>0.00</td>\n",
       "      <td>normal</td>\n",
       "    </tr>\n",
       "    <tr>\n",
       "      <th>2</th>\n",
       "      <td>0</td>\n",
       "      <td>tcp</td>\n",
       "      <td>private</td>\n",
       "      <td>S0</td>\n",
       "      <td>0</td>\n",
       "      <td>0</td>\n",
       "      <td>0</td>\n",
       "      <td>0</td>\n",
       "      <td>0</td>\n",
       "      <td>0</td>\n",
       "      <td>...</td>\n",
       "      <td>26</td>\n",
       "      <td>0.10</td>\n",
       "      <td>0.05</td>\n",
       "      <td>0.00</td>\n",
       "      <td>0.00</td>\n",
       "      <td>1.00</td>\n",
       "      <td>1.00</td>\n",
       "      <td>0.00</td>\n",
       "      <td>0.00</td>\n",
       "      <td>anomaly</td>\n",
       "    </tr>\n",
       "    <tr>\n",
       "      <th>3</th>\n",
       "      <td>0</td>\n",
       "      <td>tcp</td>\n",
       "      <td>http</td>\n",
       "      <td>SF</td>\n",
       "      <td>232</td>\n",
       "      <td>8153</td>\n",
       "      <td>0</td>\n",
       "      <td>0</td>\n",
       "      <td>0</td>\n",
       "      <td>0</td>\n",
       "      <td>...</td>\n",
       "      <td>255</td>\n",
       "      <td>1.00</td>\n",
       "      <td>0.00</td>\n",
       "      <td>0.03</td>\n",
       "      <td>0.04</td>\n",
       "      <td>0.03</td>\n",
       "      <td>0.01</td>\n",
       "      <td>0.00</td>\n",
       "      <td>0.01</td>\n",
       "      <td>normal</td>\n",
       "    </tr>\n",
       "    <tr>\n",
       "      <th>4</th>\n",
       "      <td>0</td>\n",
       "      <td>tcp</td>\n",
       "      <td>http</td>\n",
       "      <td>SF</td>\n",
       "      <td>199</td>\n",
       "      <td>420</td>\n",
       "      <td>0</td>\n",
       "      <td>0</td>\n",
       "      <td>0</td>\n",
       "      <td>0</td>\n",
       "      <td>...</td>\n",
       "      <td>255</td>\n",
       "      <td>1.00</td>\n",
       "      <td>0.00</td>\n",
       "      <td>0.00</td>\n",
       "      <td>0.00</td>\n",
       "      <td>0.00</td>\n",
       "      <td>0.00</td>\n",
       "      <td>0.00</td>\n",
       "      <td>0.00</td>\n",
       "      <td>normal</td>\n",
       "    </tr>\n",
       "  </tbody>\n",
       "</table>\n",
       "<p>5 rows × 42 columns</p>\n",
       "</div>"
      ],
      "text/plain": [
       "   duration protocol_type   service flag  src_bytes  dst_bytes  land  \\\n",
       "0         0           tcp  ftp_data   SF        491          0     0   \n",
       "1         0           udp     other   SF        146          0     0   \n",
       "2         0           tcp   private   S0          0          0     0   \n",
       "3         0           tcp      http   SF        232       8153     0   \n",
       "4         0           tcp      http   SF        199        420     0   \n",
       "\n",
       "   wrong_fragment  urgent  hot  ...  dst_host_srv_count  \\\n",
       "0               0       0    0  ...                  25   \n",
       "1               0       0    0  ...                   1   \n",
       "2               0       0    0  ...                  26   \n",
       "3               0       0    0  ...                 255   \n",
       "4               0       0    0  ...                 255   \n",
       "\n",
       "   dst_host_same_srv_rate  dst_host_diff_srv_rate  \\\n",
       "0                    0.17                    0.03   \n",
       "1                    0.00                    0.60   \n",
       "2                    0.10                    0.05   \n",
       "3                    1.00                    0.00   \n",
       "4                    1.00                    0.00   \n",
       "\n",
       "   dst_host_same_src_port_rate  dst_host_srv_diff_host_rate  \\\n",
       "0                         0.17                         0.00   \n",
       "1                         0.88                         0.00   \n",
       "2                         0.00                         0.00   \n",
       "3                         0.03                         0.04   \n",
       "4                         0.00                         0.00   \n",
       "\n",
       "   dst_host_serror_rate  dst_host_srv_serror_rate  dst_host_rerror_rate  \\\n",
       "0                  0.00                      0.00                  0.05   \n",
       "1                  0.00                      0.00                  0.00   \n",
       "2                  1.00                      1.00                  0.00   \n",
       "3                  0.03                      0.01                  0.00   \n",
       "4                  0.00                      0.00                  0.00   \n",
       "\n",
       "   dst_host_srv_rerror_rate    class  \n",
       "0                      0.00   normal  \n",
       "1                      0.00   normal  \n",
       "2                      0.00  anomaly  \n",
       "3                      0.01   normal  \n",
       "4                      0.00   normal  \n",
       "\n",
       "[5 rows x 42 columns]"
      ]
     },
     "execution_count": 97,
     "metadata": {},
     "output_type": "execute_result"
    }
   ],
   "source": [
    "\n",
    "# 4.2 Carregamento do dataset\n",
    "df = pd.read_csv(\"Train_data.csv\")\n",
    "\n",
    "# Visualização inicial\n",
    "df.head()"
   ]
  },
  {
   "cell_type": "code",
   "execution_count": 98,
   "id": "0f7916ae",
   "metadata": {},
   "outputs": [
    {
     "name": "stdout",
     "output_type": "stream",
     "text": [
      "Index(['duration', 'protocol_type', 'service', 'flag', 'src_bytes',\n",
      "       'dst_bytes', 'land', 'wrong_fragment', 'urgent', 'hot',\n",
      "       'num_failed_logins', 'logged_in', 'num_compromised', 'root_shell',\n",
      "       'su_attempted', 'num_root', 'num_file_creations', 'num_shells',\n",
      "       'num_access_files', 'num_outbound_cmds', 'is_host_login',\n",
      "       'is_guest_login', 'count', 'srv_count', 'serror_rate',\n",
      "       'srv_serror_rate', 'rerror_rate', 'srv_rerror_rate', 'same_srv_rate',\n",
      "       'diff_srv_rate', 'srv_diff_host_rate', 'dst_host_count',\n",
      "       'dst_host_srv_count', 'dst_host_same_srv_rate',\n",
      "       'dst_host_diff_srv_rate', 'dst_host_same_src_port_rate',\n",
      "       'dst_host_srv_diff_host_rate', 'dst_host_serror_rate',\n",
      "       'dst_host_srv_serror_rate', 'dst_host_rerror_rate',\n",
      "       'dst_host_srv_rerror_rate', 'class'],\n",
      "      dtype='object')\n"
     ]
    }
   ],
   "source": [
    "print(df.columns)"
   ]
  },
  {
   "cell_type": "code",
   "execution_count": 99,
   "id": "9c005cc5",
   "metadata": {},
   "outputs": [
    {
     "name": "stderr",
     "output_type": "stream",
     "text": [
      "C:\\Users\\João Lucas\\AppData\\Local\\Temp\\ipykernel_9364\\3086636732.py:25: FutureWarning: DataFrame.applymap has been deprecated. Use DataFrame.map instead.\n",
      "  nao_numericos_por_coluna = df.applymap(lambda x: isinstance(x, str)).sum()\n"
     ]
    }
   ],
   "source": [
    "# Colunas categóricas nominais\n",
    "colunas_categoricas = ['protocol_type', 'flag', 'service']\n",
    "\n",
    "# Dicionário para armazenar os encoders caso precise inverter depois\n",
    "encoders = {}\n",
    "\n",
    "for coluna in colunas_categoricas:\n",
    "    le = LabelEncoder()\n",
    "    df[coluna] = le.fit_transform(df[coluna])\n",
    "    encoders[coluna] = le  # Guarda o encoder para possível inversão futura\n",
    "\n",
    "# # Prints para análise (comente/descomente conforme desejar)\n",
    "#print(df[colunas_categoricas].head())\n",
    "# print(df['protocol_type'].unique())\n",
    "# print(df['flag'].unique())\n",
    "# print(df['service'].unique())\n",
    "\n",
    "# Contar valores únicos por coluna\n",
    "# print(df.nunique().sort_values())\n",
    "\n",
    "# Verificar colunas com valores nulos\n",
    "# print(df.isnull().sum())\n",
    "\n",
    "# Verifica se cada valor é string (ou seja, não numérico)\n",
    "nao_numericos_por_coluna = df.applymap(lambda x: isinstance(x, str)).sum()\n",
    "\n",
    "# Mostrar as colunas que têm algum valor não numérico\n",
    "#print(nao_numericos_por_coluna[nao_numericos_por_coluna > 0])\n",
    "\n",
    "# Renomeando para Label para evitar confusão\n",
    "df.rename(columns={'class': 'Label'}, inplace=True)\n",
    "\n",
    "# Codificar a coluna alvo\n",
    "label_encoder = LabelEncoder()\n",
    "df['Label'] = label_encoder.fit_transform(df['Label'])\n",
    "\n",
    "    "
   ]
  },
  {
   "cell_type": "code",
   "execution_count": 100,
   "id": "e3303ddc",
   "metadata": {},
   "outputs": [],
   "source": [
    "# Separar atributos e rótulo\n",
    "X = df.drop('Label', axis=1)\n",
    "y = df['Label']\n",
    "\n",
    "# Dividir em treino e teste (random_state para reprodutibilidade)\n",
    "X_train, X_test, y_train, y_test = train_test_split(\n",
    "    X, y, test_size=0.3, random_state=42, stratify=y)\n",
    "\n",
    "# # Prints para conferir tamanho dos conjuntos\n",
    "# print(f'Treino: {X_train.shape}, Teste: {X_test.shape}')\n"
   ]
  },
  {
   "cell_type": "markdown",
   "id": "1edbca02",
   "metadata": {},
   "source": [
    "### Treinamento do Modelo"
   ]
  },
  {
   "cell_type": "code",
   "execution_count": 101,
   "id": "8b26f640",
   "metadata": {},
   "outputs": [],
   "source": [
    "\n",
    "# 4.4 Treinamento do modelo\n",
    "model = RandomForestClassifier(n_estimators=100, random_state=42)\n",
    "model.fit(X_train, y_train)\n",
    "\n",
    "# Previsão\n",
    "y_pred = model.predict(X_test)\n",
    "    "
   ]
  },
  {
   "cell_type": "markdown",
   "id": "8b9c3520",
   "metadata": {},
   "source": [
    "\n",
    "## 4. Resultados e Discussão\n",
    "\n",
    "O modelo Random Forest apresentou um desempenho excelente na classificação do dataset, alcançando uma acurácia de 99,75%. As métricas de precisão, recall e F1-score para ambas as classes se aproximaram do valor máximo, indicando que o classificador foi capaz de identificar corretamente tanto conexões normais quanto ataques, mantendo um equilíbrio eficiente entre falsos positivos e falsos negativos. O conjunto de dados utilizado mostrou-se balanceado, com suporte semelhante para as duas classes, o que contribui para a confiabilidade da avaliação do modelo.\n",
    "\n",
    "Além disso, a análise da importância das features revelou que variáveis relacionadas ao volume de dados transmitidos, como src_bytes e dst_bytes, juntamente com taxas de serviços específicas, são as principais responsáveis pelas decisões do modelo. Muitas outras variáveis apresentaram importância mínima, sugerindo que poderiam ser removidas para simplificar o modelo sem prejudicar seu desempenho. Essa avaliação estatística oferece uma base sólida para futuras otimizações e melhor compreensão do comportamento do classificador."
   ]
  },
  {
   "cell_type": "markdown",
   "id": "7895cf42",
   "metadata": {},
   "source": [
    "### Avaliação do Modelo"
   ]
  },
  {
   "cell_type": "code",
   "execution_count": 102,
   "id": "a9562b2e",
   "metadata": {},
   "outputs": [
    {
     "name": "stdout",
     "output_type": "stream",
     "text": [
      "Acurácia: 0.9975\n",
      "\n",
      "Relatório de Classificação:\n",
      "              precision    recall  f1-score   support\n",
      "\n",
      "           0       1.00      1.00      1.00      3523\n",
      "           1       1.00      1.00      1.00      4035\n",
      "\n",
      "    accuracy                           1.00      7558\n",
      "   macro avg       1.00      1.00      1.00      7558\n",
      "weighted avg       1.00      1.00      1.00      7558\n",
      "\n"
     ]
    }
   ],
   "source": [
    "from sklearn.metrics import accuracy_score, classification_report\n",
    "\n",
    "# Acurácia geral\n",
    "acc = accuracy_score(y_test, y_pred)\n",
    "print(f\"Acurácia: {acc:.4f}\\n\")\n",
    "\n",
    "# Relatório detalhado\n",
    "print(\"Relatório de Classificação:\")\n",
    "print(classification_report(y_test, y_pred))"
   ]
  },
  {
   "cell_type": "code",
   "execution_count": 103,
   "id": "38f5b961",
   "metadata": {},
   "outputs": [
    {
     "data": {
      "image/png": "[encoded data removed]",
      "text/plain": [
       "<Figure size 1000x700 with 2 Axes>"
      ]
     },
     "metadata": {},
     "output_type": "display_data"
    }
   ],
   "source": [
    "from sklearn.metrics import confusion_matrix\n",
    "import matplotlib.pyplot as plt\n",
    "import seaborn as sns\n",
    "\n",
    "cm = confusion_matrix(y_test, y_pred)\n",
    "plt.figure(figsize=(10,7))\n",
    "sns.heatmap(cm, annot=True, fmt='d', cmap='Blues')\n",
    "plt.xlabel(\"Previsto\")\n",
    "plt.ylabel(\"Verdadeiro\")\n",
    "plt.title(\"Matriz de Confusão\")\n",
    "plt.show()\n"
   ]
  },
  {
   "cell_type": "code",
   "execution_count": 105,
   "id": "72854a09",
   "metadata": {},
   "outputs": [
    {
     "name": "stdout",
     "output_type": "stream",
     "text": [
      "Importância das Features:\n",
      "src_bytes                      0.192286\n",
      "dst_bytes                      0.091671\n",
      "same_srv_rate                  0.076346\n",
      "flag                           0.075173\n",
      "dst_host_same_srv_rate         0.067838\n",
      "dst_host_srv_count             0.065104\n",
      "logged_in                      0.051343\n",
      "protocol_type                  0.035615\n",
      "diff_srv_rate                  0.035202\n",
      "serror_rate                    0.033445\n",
      "count                          0.030738\n",
      "srv_serror_rate                0.030353\n",
      "dst_host_same_src_port_rate    0.028730\n",
      "dst_host_diff_srv_rate         0.027107\n",
      "service                        0.023388\n",
      "srv_count                      0.022245\n",
      "dst_host_srv_diff_host_rate    0.018265\n",
      "dst_host_rerror_rate           0.015590\n",
      "dst_host_count                 0.013811\n",
      "dst_host_srv_serror_rate       0.012290\n",
      "dst_host_serror_rate           0.010348\n",
      "hot                            0.008970\n",
      "dst_host_srv_rerror_rate       0.007405\n",
      "srv_rerror_rate                0.006051\n",
      "num_compromised                0.005651\n",
      "wrong_fragment                 0.004481\n",
      "duration                       0.003032\n",
      "srv_diff_host_rate             0.002980\n",
      "rerror_rate                    0.002353\n",
      "is_guest_login                 0.000940\n",
      "num_root                       0.000394\n",
      "num_file_creations             0.000234\n",
      "num_failed_logins              0.000193\n",
      "root_shell                     0.000172\n",
      "num_access_files               0.000094\n",
      "urgent                         0.000059\n",
      "num_shells                     0.000040\n",
      "su_attempted                   0.000033\n",
      "land                           0.000032\n",
      "num_outbound_cmds              0.000000\n",
      "is_host_login                  0.000000\n",
      "dtype: float64\n"
     ]
    },
    {
     "data": {
      "image/png": "[encoded data removed]",
      "text/plain": [
       "<Figure size 1200x600 with 1 Axes>"
      ]
     },
     "metadata": {},
     "output_type": "display_data"
    }
   ],
   "source": [
    "import pandas as pd\n",
    "import matplotlib.pyplot as plt\n",
    "\n",
    "importances = pd.Series(model.feature_importances_, index=X.columns)\n",
    "importances = importances.sort_values(ascending=False)\n",
    "\n",
    "print(\"Importância das Features:\")\n",
    "print(importances)\n",
    "\n",
    "plt.figure(figsize=(12,6))\n",
    "importances.plot(kind='bar')\n",
    "plt.title(\"Importância das Features\")\n",
    "plt.show()\n"
   ]
  },
  {
   "cell_type": "markdown",
   "id": "009f540f",
   "metadata": {},
   "source": [
    "\n",
    "## 5. Conclusão\n",
    "\n",
    "O uso do Random Forest para classificação em cibersegurança mostrou-se bastante promissor para a previsão de ataques reais em redes de computadores. O modelo não apenas demonstra alta precisão, como também oferece insights importantes sobre quais características do tráfego de rede são mais indicativas de atividades maliciosas. Esses conhecimentos podem ser aplicados para fortalecer sistemas de detecção de intrusões, permitindo respostas mais rápidas e eficazes contra ameaças cibernéticas. Dessa forma, o estudo reforça a importância do machine learning como uma ferramenta estratégica para proteger ambientes digitais em um cenário de crescentes riscos de segurança."
   ]
  },
  {
   "cell_type": "markdown",
   "id": "a9d55a0b",
   "metadata": {},
   "source": [
    "\n",
    "## 6. Referências\n",
    "\n",
    "Scikit-learn Documentation. Disponível em: https://scikit-learn.org/stable/. Acesso em: 22 jul. 2025.\n",
    "\n",
    "Kaggle Dataset – Network Intrusion Detection. Disponível em: https://www.kaggle.com/datasets/sampadab17/network-intrusion-detection. Acesso em: 22 jul. 2025.\n",
    "    "
   ]
  }
 ],
 "metadata": {
  "kernelspec": {
   "display_name": "Python 3",
   "language": "python",
   "name": "python3"
  },
  "language_info": {
   "codemirror_mode": {
    "name": "ipython",
    "version": 3
   },
   "file_extension": ".py",
   "mimetype": "text/x-python",
   "name": "python",
   "nbconvert_exporter": "python",
   "pygments_lexer": "ipython3",
   "version": "3.13.5"
  }
 },
 "nbformat": 4,
 "nbformat_minor": 5
}
